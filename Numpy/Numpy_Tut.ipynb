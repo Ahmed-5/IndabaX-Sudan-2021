{
  "nbformat": 4,
  "nbformat_minor": 0,
  "metadata": {
    "colab": {
      "name": "Numpy Tut.ipynb",
      "provenance": [],
      "collapsed_sections": []
    },
    "kernelspec": {
      "name": "python3",
      "display_name": "Python 3"
    }
  },
  "cells": [
    {
      "cell_type": "markdown",
      "metadata": {
        "id": "MmWVVqx4RFhN",
        "colab_type": "text"
      },
      "source": [
        "# Numpy\n",
        "Numpy is the core library for scientific computing in Python (see the full [documentation](https://numpy.org/devdocs/user/quickstart.html) which is available online). It provides a high-performance multidimensional array object, and tools for working with these arrays. If you are already familiar with MATLAB, you might find this tutorial useful to get started with Numpy."
      ]
    },
    {
      "cell_type": "code",
      "metadata": {
        "id": "Nc05X4MJjpXv",
        "colab_type": "code",
        "outputId": "2a964fa1-4a96-4486-d409-51ba3f46ef4e",
        "colab": {
          "base_uri": "https://localhost:8080/",
          "height": 35
        }
      },
      "source": [
        "import numpy as np\n"
      ],
      "execution_count": 2,
      "outputs": [
        {
          "output_type": "execute_result",
          "data": {
            "text/plain": [
              "array([2, 3, 4])"
            ]
          },
          "metadata": {
            "tags": []
          },
          "execution_count": 2
        }
      ]
    },
    {
      "cell_type": "markdown",
      "metadata": {
        "id": "Lfv2UrCxRzck",
        "colab_type": "text"
      },
      "source": [
        "A numpy array is a grid of values, all of the same type, and is indexed by a tuple of nonnegative integers. The number of dimensions is the rank of the array; the shape of an array is a tuple of integers giving the size of the array along each dimension."
      ]
    },
    {
      "cell_type": "code",
      "metadata": {
        "id": "c2ADEa06R2Qz",
        "colab_type": "code",
        "colab": {}
      },
      "source": [
        "a = np.array([2,3,4])\n",
        "a"
      ],
      "execution_count": 0,
      "outputs": []
    },
    {
      "cell_type": "code",
      "metadata": {
        "id": "dgKGnaKfjwpw",
        "colab_type": "code",
        "outputId": "1fe5653d-5bb0-416f-bff5-1adb2aa74c87",
        "colab": {
          "base_uri": "https://localhost:8080/",
          "height": 35
        }
      },
      "source": [
        " a = np.arange(15)\n",
        " a"
      ],
      "execution_count": 65,
      "outputs": [
        {
          "output_type": "execute_result",
          "data": {
            "text/plain": [
              "array([ 0,  1,  2,  3,  4,  5,  6,  7,  8,  9, 10, 11, 12, 13, 14])"
            ]
          },
          "metadata": {
            "tags": []
          },
          "execution_count": 65
        }
      ]
    },
    {
      "cell_type": "code",
      "metadata": {
        "id": "J0P2AXiikpXh",
        "colab_type": "code",
        "colab": {}
      },
      "source": [
        "a=np.arange( 0, 2, 0.3 )    #start   end     step\n",
        "a"
      ],
      "execution_count": 0,
      "outputs": []
    },
    {
      "cell_type": "code",
      "metadata": {
        "id": "fy01JxQblN9i",
        "colab_type": "code",
        "outputId": "c17cdf26-6912-4e7d-a782-a969baa4b7ef",
        "colab": {
          "base_uri": "https://localhost:8080/",
          "height": 36
        }
      },
      "source": [
        "a=np.linspace( 0, 2, 9 )             # start         end         number of elements that we want\n",
        "a"
      ],
      "execution_count": 0,
      "outputs": [
        {
          "output_type": "execute_result",
          "data": {
            "text/plain": [
              "array([0.  , 0.25, 0.5 , 0.75, 1.  , 1.25, 1.5 , 1.75, 2.  ])"
            ]
          },
          "metadata": {
            "tags": []
          },
          "execution_count": 12
        }
      ]
    },
    {
      "cell_type": "code",
      "metadata": {
        "id": "FqlRI-wjj6gF",
        "colab_type": "code",
        "outputId": "ae0281da-1ed7-4cbc-f94b-17953409267b",
        "colab": {
          "base_uri": "https://localhost:8080/",
          "height": 73
        }
      },
      "source": [
        "a=np.zeros( (3,4) )\n",
        "a"
      ],
      "execution_count": 0,
      "outputs": [
        {
          "output_type": "execute_result",
          "data": {
            "text/plain": [
              "array([[0., 0., 0., 0.],\n",
              "       [0., 0., 0., 0.],\n",
              "       [0., 0., 0., 0.]])"
            ]
          },
          "metadata": {
            "tags": []
          },
          "execution_count": 4
        }
      ]
    },
    {
      "cell_type": "code",
      "metadata": {
        "id": "gmKdUPwzkDNQ",
        "colab_type": "code",
        "outputId": "450535b2-5d8b-43a1-834a-6e13c492c27c",
        "colab": {
          "base_uri": "https://localhost:8080/",
          "height": 54
        }
      },
      "source": [
        "np.ones( (2,2), dtype=np.int16 )"
      ],
      "execution_count": 0,
      "outputs": [
        {
          "output_type": "execute_result",
          "data": {
            "text/plain": [
              "array([[1, 1],\n",
              "       [1, 1]], dtype=int16)"
            ]
          },
          "metadata": {
            "tags": []
          },
          "execution_count": 7
        }
      ]
    },
    {
      "cell_type": "code",
      "metadata": {
        "id": "Cokn84nZlvJb",
        "colab_type": "code",
        "outputId": "cbe9e89c-d332-429b-83f2-6d070ba4447b",
        "colab": {
          "base_uri": "https://localhost:8080/",
          "height": 36
        }
      },
      "source": [
        "a=np.array([1,2,3])\n",
        "np.ones_like(a)"
      ],
      "execution_count": 0,
      "outputs": [
        {
          "output_type": "execute_result",
          "data": {
            "text/plain": [
              "array([1, 1, 1])"
            ]
          },
          "metadata": {
            "tags": []
          },
          "execution_count": 13
        }
      ]
    },
    {
      "cell_type": "code",
      "metadata": {
        "id": "TW2wl-S-kPaP",
        "colab_type": "code",
        "outputId": "b591487c-eb3c-4ed4-dd70-5fbeb30f2aa6",
        "colab": {
          "base_uri": "https://localhost:8080/",
          "height": 36
        }
      },
      "source": [
        "a = np.arange(15)\n",
        "a"
      ],
      "execution_count": 0,
      "outputs": [
        {
          "output_type": "execute_result",
          "data": {
            "text/plain": [
              "array([ 0,  1,  2,  3,  4,  5,  6,  7,  8,  9, 10, 11, 12, 13, 14])"
            ]
          },
          "metadata": {
            "tags": []
          },
          "execution_count": 15
        }
      ]
    },
    {
      "cell_type": "code",
      "metadata": {
        "id": "4E1TpsrmpJ36",
        "colab_type": "code",
        "outputId": "2d336428-5aeb-4c7a-f21d-db4bad585d7d",
        "colab": {
          "base_uri": "https://localhost:8080/",
          "height": 54
        }
      },
      "source": [
        "a = np.random.random((2,3))\n",
        "a"
      ],
      "execution_count": 0,
      "outputs": [
        {
          "output_type": "execute_result",
          "data": {
            "text/plain": [
              "array([[0.62220325, 0.38460112, 0.06158027],\n",
              "       [0.84559565, 0.3671806 , 0.56664846]])"
            ]
          },
          "metadata": {
            "tags": []
          },
          "execution_count": 26
        }
      ]
    },
    {
      "cell_type": "code",
      "metadata": {
        "id": "N18G4QH079rO",
        "colab_type": "code",
        "colab": {
          "base_uri": "https://localhost:8080/",
          "height": 72
        },
        "outputId": "c6c6e04e-fd49-4bcb-880c-b634f840ed91"
      },
      "source": [
        "a=np.full((3,2), 4) # Create a constant array\n",
        "a"
      ],
      "execution_count": 25,
      "outputs": [
        {
          "output_type": "execute_result",
          "data": {
            "text/plain": [
              "array([[4, 4],\n",
              "       [4, 4],\n",
              "       [4, 4]])"
            ]
          },
          "metadata": {
            "tags": []
          },
          "execution_count": 25
        }
      ]
    },
    {
      "cell_type": "code",
      "metadata": {
        "id": "uOF1uYVY8G6T",
        "colab_type": "code",
        "colab": {
          "base_uri": "https://localhost:8080/",
          "height": 90
        },
        "outputId": "673123fc-b384-4778-c360-0c26698e3fb5"
      },
      "source": [
        "a = np.eye(4)        # Create a 2x2 identity matrix\n",
        "print(a)"
      ],
      "execution_count": 27,
      "outputs": [
        {
          "output_type": "stream",
          "text": [
            "[[1. 0. 0. 0.]\n",
            " [0. 1. 0. 0.]\n",
            " [0. 0. 1. 0.]\n",
            " [0. 0. 0. 1.]]\n"
          ],
          "name": "stdout"
        }
      ]
    },
    {
      "cell_type": "code",
      "metadata": {
        "id": "nBPRO9l9qoWT",
        "colab_type": "code",
        "colab": {
          "base_uri": "https://localhost:8080/",
          "height": 35
        },
        "outputId": "a0200205-622c-41ba-9fd5-7e8602ee34ae"
      },
      "source": [
        "a = np.array([0, 1, 2])\n",
        "np.tile(a, 3)"
      ],
      "execution_count": 14,
      "outputs": [
        {
          "output_type": "execute_result",
          "data": {
            "text/plain": [
              "array([0, 1, 2, 0, 1, 2, 0, 1, 2])"
            ]
          },
          "metadata": {
            "tags": []
          },
          "execution_count": 14
        }
      ]
    },
    {
      "cell_type": "code",
      "metadata": {
        "id": "4-4D67oEtcv1",
        "colab_type": "code",
        "colab": {
          "base_uri": "https://localhost:8080/",
          "height": 54
        },
        "outputId": "3a79d56b-1cc6-435e-a562-1e2903df5758"
      },
      "source": [
        "a = np.array([0, 1, 2])\n",
        "np.tile(a, (2, 2))"
      ],
      "execution_count": 12,
      "outputs": [
        {
          "output_type": "execute_result",
          "data": {
            "text/plain": [
              "array([[0, 1, 2, 0, 1, 2],\n",
              "       [0, 1, 2, 0, 1, 2]])"
            ]
          },
          "metadata": {
            "tags": []
          },
          "execution_count": 12
        }
      ]
    },
    {
      "cell_type": "code",
      "metadata": {
        "id": "BRlzFaustcdF",
        "colab_type": "code",
        "colab": {
          "base_uri": "https://localhost:8080/",
          "height": 72
        },
        "outputId": "6dd1a3e8-85bb-4b6e-c4be-18f2750f650e"
      },
      "source": [
        "a = np.array([0, 1, 2])\n",
        "np.tile(a, (2, 1, 2))"
      ],
      "execution_count": 13,
      "outputs": [
        {
          "output_type": "execute_result",
          "data": {
            "text/plain": [
              "array([[[0, 1, 2, 0, 1, 2]],\n",
              "\n",
              "       [[0, 1, 2, 0, 1, 2]]])"
            ]
          },
          "metadata": {
            "tags": []
          },
          "execution_count": 13
        }
      ]
    },
    {
      "cell_type": "code",
      "metadata": {
        "id": "2XbonozPmGsx",
        "colab_type": "code",
        "colab": {}
      },
      "source": [
        "print(a.shape)\n",
        "a.reshape(3, 5)\n",
        "print(a.shape)"
      ],
      "execution_count": 0,
      "outputs": []
    },
    {
      "cell_type": "code",
      "metadata": {
        "id": "Jo0qk5famLZM",
        "colab_type": "code",
        "colab": {}
      },
      "source": [
        "print('the number of axes (dimensions) of the array. =',a.ndim)\n",
        "print('the dimensions of the array =',a.shape)\n",
        "print('the total number of elements of the array =',a.size)\n",
        "print('a.ndim =',a.ndim)"
      ],
      "execution_count": 0,
      "outputs": []
    },
    {
      "cell_type": "markdown",
      "metadata": {
        "id": "wDXQHIppnihv",
        "colab_type": "text"
      },
      "source": [
        "### Basic OPerations"
      ]
    },
    {
      "cell_type": "code",
      "metadata": {
        "id": "CFRDXlTAnpBn",
        "colab_type": "code",
        "colab": {}
      },
      "source": [
        "A = np.array( [[1,1],\n",
        "           [0,1]] )\n",
        "B = np.array( [[2,0],\n",
        "            [3,4]] )"
      ],
      "execution_count": 0,
      "outputs": []
    },
    {
      "cell_type": "code",
      "metadata": {
        "id": "AT1Chi2-nyG6",
        "colab_type": "code",
        "outputId": "da1c3e12-89dd-474d-a4e9-aa35065955f6",
        "colab": {
          "base_uri": "https://localhost:8080/",
          "height": 92
        }
      },
      "source": [
        "# Arithmetic operators on arrays apply elementwise\n",
        "print(A+B)\n",
        "print(2*A)"
      ],
      "execution_count": 0,
      "outputs": [
        {
          "output_type": "stream",
          "text": [
            "[[3 1]\n",
            " [3 5]]\n",
            "[[2 2]\n",
            " [0 2]]\n"
          ],
          "name": "stdout"
        }
      ]
    },
    {
      "cell_type": "code",
      "metadata": {
        "id": "efb4yFnHn5KR",
        "colab_type": "code",
        "outputId": "64c7aea8-1372-41c6-a39c-c6a1b0d03e17",
        "colab": {
          "base_uri": "https://localhost:8080/",
          "height": 54
        }
      },
      "source": [
        "# Unlike in many matrix languages, the product operator * operates elementwise in NumPy arrays. \n",
        "# The matrix product can be performed using the @ operator (in python >=3.5) or the dot function or method:\n",
        " \n",
        "A * B                       # elementwise product"
      ],
      "execution_count": 0,
      "outputs": [
        {
          "output_type": "execute_result",
          "data": {
            "text/plain": [
              "array([[2, 0],\n",
              "       [0, 4]])"
            ]
          },
          "metadata": {
            "tags": []
          },
          "execution_count": 21
        }
      ]
    },
    {
      "cell_type": "code",
      "metadata": {
        "id": "IcH4SDNeoh3l",
        "colab_type": "code",
        "outputId": "b572bd1c-6126-4f78-806d-70b3e1c701aa",
        "colab": {
          "base_uri": "https://localhost:8080/",
          "height": 54
        }
      },
      "source": [
        "A @ B                       # matrix product\n"
      ],
      "execution_count": 0,
      "outputs": [
        {
          "output_type": "execute_result",
          "data": {
            "text/plain": [
              "array([[5, 4],\n",
              "       [3, 4]])"
            ]
          },
          "metadata": {
            "tags": []
          },
          "execution_count": 22
        }
      ]
    },
    {
      "cell_type": "code",
      "metadata": {
        "id": "hZwH-z8lokxe",
        "colab_type": "code",
        "outputId": "9bd622b5-9200-4bd1-b24e-daf9bf1f7e03",
        "colab": {
          "base_uri": "https://localhost:8080/",
          "height": 54
        }
      },
      "source": [
        "A.dot(B)                    # another matrix product\n"
      ],
      "execution_count": 30,
      "outputs": [
        {
          "output_type": "execute_result",
          "data": {
            "text/plain": [
              "array([[5, 4],\n",
              "       [3, 4]])"
            ]
          },
          "metadata": {
            "tags": []
          },
          "execution_count": 30
        }
      ]
    },
    {
      "cell_type": "code",
      "metadata": {
        "id": "CotrRzV09aGW",
        "colab_type": "code",
        "colab": {
          "base_uri": "https://localhost:8080/",
          "height": 54
        },
        "outputId": "deb9e9f8-3d6d-4da1-cbac-177618908b3a"
      },
      "source": [
        "#Also\n",
        "np.dot(A, B)"
      ],
      "execution_count": 32,
      "outputs": [
        {
          "output_type": "execute_result",
          "data": {
            "text/plain": [
              "array([[5, 4],\n",
              "       [3, 4]])"
            ]
          },
          "metadata": {
            "tags": []
          },
          "execution_count": 32
        }
      ]
    },
    {
      "cell_type": "code",
      "metadata": {
        "id": "vVwY-cQdooif",
        "colab_type": "code",
        "outputId": "56e5b5f9-6670-49cc-b14a-fd34535033e0",
        "colab": {
          "base_uri": "https://localhost:8080/",
          "height": 73
        }
      },
      "source": [
        "a=np.arange(12).reshape(3,4)\n",
        "a"
      ],
      "execution_count": 0,
      "outputs": [
        {
          "output_type": "execute_result",
          "data": {
            "text/plain": [
              "array([[ 0,  1,  2,  3],\n",
              "       [ 4,  5,  6,  7],\n",
              "       [ 8,  9, 10, 11]])"
            ]
          },
          "metadata": {
            "tags": []
          },
          "execution_count": 29
        }
      ]
    },
    {
      "cell_type": "code",
      "metadata": {
        "id": "hr0DFg-7piLx",
        "colab_type": "code",
        "outputId": "60e5ff5b-5e08-4b74-8e11-6698d12c9f8d",
        "colab": {
          "base_uri": "https://localhost:8080/",
          "height": 92
        }
      },
      "source": [
        "print('sum =',a.sum())\n",
        "print('min ',a.min())\n",
        "print('max =',a.max())\n",
        "print( 'sum on rows  ',a.sum(axis=0) )"
      ],
      "execution_count": 0,
      "outputs": [
        {
          "output_type": "stream",
          "text": [
            "sum = 66\n",
            "min  0\n",
            "max = 11\n",
            "sum on rows   [12 15 18 21]\n"
          ],
          "name": "stdout"
        }
      ]
    },
    {
      "cell_type": "code",
      "metadata": {
        "id": "CiD1W_S9h1q1",
        "colab_type": "code",
        "colab": {}
      },
      "source": [
        ""
      ],
      "execution_count": 0,
      "outputs": []
    },
    {
      "cell_type": "markdown",
      "metadata": {
        "colab_type": "text",
        "id": "dKYxreRgjzj0"
      },
      "source": [
        "##Broadcasting\n",
        "\n",
        "Broadcasting is a powerful mechanism that allows numpy to work with arrays of different shapes when performing arithmetic operations. Frequently we have a smaller array and a larger array, and we want to use the smaller array multiple times to perform some operation on the larger array.\n",
        "\n",
        "For example, suppose that we want to add a constant vector to each row of a matrix. We could do it like this:"
      ]
    },
    {
      "cell_type": "code",
      "metadata": {
        "colab_type": "code",
        "id": "OUvwvfQ7jzju",
        "colab": {
          "base_uri": "https://localhost:8080/",
          "height": 35
        },
        "outputId": "a54ddbe8-3366-408c-a93c-7d6224dc5f1e"
      },
      "source": [
        "import time\n",
        "# We will add the vector v to each row of the matrix x,\n",
        "# storing the result in the matrix y\n",
        "x = np.array([[1,2,3], [4,5,6], [7,8,9], [10, 11, 12]])\n",
        "v = np.array([1, 0, 1])\n",
        "y = np.empty_like(x)   # Create an empty matrix with the same shape as x\n",
        "\n",
        "# Add the vector v to each row of the matrix x with an explicit loop\n",
        "t1=time.time()\n",
        "for i in range(4):\n",
        "    y[i, :] = x[i, :] + v\n",
        "t2=time.time()\n",
        "\n",
        "print(t2-t1)\n",
        "pritn(y)"
      ],
      "execution_count": 10,
      "outputs": [
        {
          "output_type": "stream",
          "text": [
            "0.0009496212005615234\n"
          ],
          "name": "stdout"
        }
      ]
    },
    {
      "cell_type": "markdown",
      "metadata": {
        "id": "30GLERCLkLDA",
        "colab_type": "text"
      },
      "source": [
        "This works; however when the matrix x is very large, computing an explicit loop in Python could be slow. Note that adding the vector v to each row of the matrix x is equivalent to forming a matrix vv by stacking multiple copies of v vertically, then performing elementwise summation of x and vv. We could implement this approach like this:"
      ]
    },
    {
      "cell_type": "code",
      "metadata": {
        "colab_type": "code",
        "id": "KLm9jjxFjzjp",
        "colab": {
          "base_uri": "https://localhost:8080/",
          "height": 90
        },
        "outputId": "57e82645-8fbf-43b4-d014-ea1ba277a51e"
      },
      "source": [
        "\n",
        "\n",
        "vv = np.tile(v, (4, 1))  # Stack 4 copies of v on top of each other\n",
        "print(vv)                 # Prints \"[[1 0 1]\n",
        "                         #          [1 0 1]\n",
        "                         #          [1 0 1]\n",
        "                         #          [1 0 1]]\""
      ],
      "execution_count": 16,
      "outputs": [
        {
          "output_type": "stream",
          "text": [
            "[[1 0 1]\n",
            " [1 0 1]\n",
            " [1 0 1]\n",
            " [1 0 1]]\n"
          ],
          "name": "stdout"
        }
      ]
    },
    {
      "cell_type": "code",
      "metadata": {
        "id": "pm_Jcno6kU_P",
        "colab_type": "code",
        "colab": {
          "base_uri": "https://localhost:8080/",
          "height": 90
        },
        "outputId": "7b7767ff-949e-4af7-8352-c064a0bd5099"
      },
      "source": [
        "y = x + vv  # Add x and vv elementwise\n",
        "print(y)"
      ],
      "execution_count": 18,
      "outputs": [
        {
          "output_type": "stream",
          "text": [
            "[[ 2  2  4]\n",
            " [ 5  5  7]\n",
            " [ 8  8 10]\n",
            " [11 11 13]]\n"
          ],
          "name": "stdout"
        }
      ]
    },
    {
      "cell_type": "markdown",
      "metadata": {
        "id": "5t26taVbke5-",
        "colab_type": "text"
      },
      "source": [
        "Numpy broadcasting allows us to perform this computation without actually creating multiple copies of v. Consider this version, using broadcasting:"
      ]
    },
    {
      "cell_type": "code",
      "metadata": {
        "id": "aTki7IoVkVjq",
        "colab_type": "code",
        "colab": {
          "base_uri": "https://localhost:8080/",
          "height": 108
        },
        "outputId": "bac9ec22-980c-4c21-a0ea-767bafa59c09"
      },
      "source": [
        "import numpy as np\n",
        "\n",
        "# We will add the vector v to each row of the matrix x,\n",
        "# storing the result in the matrix y\n",
        "x = np.array([[1,2,3], [4,5,6], [7,8,9], [10, 11, 12]])\n",
        "v = np.array([1, 0, 1])\n",
        "t1=time.time()\n",
        "y = x + v  # Add v to each row of x using broadcasting\n",
        "t2=time.time()\n",
        "\n",
        "print(t2-t1)\n",
        "print(y)"
      ],
      "execution_count": 19,
      "outputs": [
        {
          "output_type": "stream",
          "text": [
            "5.7220458984375e-05\n",
            "[[ 2  2  4]\n",
            " [ 5  5  7]\n",
            " [ 8  8 10]\n",
            " [11 11 13]]\n"
          ],
          "name": "stdout"
        }
      ]
    },
    {
      "cell_type": "markdown",
      "metadata": {
        "id": "_-oj1uF9kjab",
        "colab_type": "text"
      },
      "source": [
        "The line y = x + v works even though x has shape (4, 3) and v has shape (3,) due to broadcasting; this line works as if v actually had shape (4, 3), where each row was a copy of v, and the sum was performed elementwise.\n",
        "\n",
        "Broadcasting two arrays together follows these rules:\n",
        "\n",
        "\n",
        "\n",
        "1.   If the arrays do not have the same rank, prepend the shape of the lower rank array with 1s until both shapes have the same length.\n",
        "2.   The two arrays are said to be compatible in a dimension if they have the same size in the dimension, or if one of the arrays has size 1 in that dimension.\n",
        "\n",
        "3.   The arrays can be broadcast together if they are compatible in all dimensions.\n",
        "4.   After broadcasting, each array behaves as if it had shape equal to the elementwise maximum of shapes of the two input arrays.\n",
        "\n",
        "\n",
        "5.   In any dimension where one array had size 1 and the other array had size greater than 1, the first array behaves as if it were copied along that dimension.\n",
        "\n",
        "\n",
        "Functions that support broadcasting are known as universal functions. You can find the list of all universal functions in the documentation.\n",
        "\n",
        "Here are some applications of broadcasting:"
      ]
    },
    {
      "cell_type": "code",
      "metadata": {
        "id": "2Xxdv8oakncn",
        "colab_type": "code",
        "colab": {
          "base_uri": "https://localhost:8080/",
          "height": 145
        },
        "outputId": "1152e018-795e-43d7-a00d-b80613fe89c7"
      },
      "source": [
        "# Compute outer product of vectors\n",
        "v = np.array([1,2,3])  # v has shape (3,)\n",
        "w = np.array([4,5])    # w has shape (2,)\n",
        "# To compute an outer product, we first reshape v to be a column\n",
        "# vector of shape (3, 1); we can then broadcast it against w to yield\n",
        "# an output of shape (3, 2), which is the outer product of v and w:\n",
        "print('v: ',np.reshape(v, (3, 1)))\n",
        "print('w: ',w)\n",
        "print(np.reshape(v, (3, 1)) * w)"
      ],
      "execution_count": 34,
      "outputs": [
        {
          "output_type": "stream",
          "text": [
            "v:  [[1]\n",
            " [2]\n",
            " [3]]\n",
            "w:  [4 5]\n",
            "[[ 4  5]\n",
            " [ 8 10]\n",
            " [12 15]]\n"
          ],
          "name": "stdout"
        }
      ]
    },
    {
      "cell_type": "code",
      "metadata": {
        "id": "bqIvN980l1Lz",
        "colab_type": "code",
        "colab": {
          "base_uri": "https://localhost:8080/",
          "height": 108
        },
        "outputId": "b8696ee8-fda9-48e7-b7e1-16a7b165c873"
      },
      "source": [
        "# Add a vector to each row of a matrix\n",
        "x = np.array([[1,2,3], [4,5,6]])\n",
        "# x has shape (2, 3) and v has shape (3,) so they broadcast to (2, 3),\n",
        "# giving the following matrix:\n",
        "print(x)\n",
        "print(v)\n",
        "print(x + v)"
      ],
      "execution_count": 42,
      "outputs": [
        {
          "output_type": "stream",
          "text": [
            "[[1 2 3]\n",
            " [4 5 6]]\n",
            "[1 2 3]\n",
            "[[2 4 6]\n",
            " [5 7 9]]\n"
          ],
          "name": "stdout"
        }
      ]
    },
    {
      "cell_type": "code",
      "metadata": {
        "id": "LT40CiiHl5p2",
        "colab_type": "code",
        "colab": {
          "base_uri": "https://localhost:8080/",
          "height": 126
        },
        "outputId": "b19c03cd-c6f0-434d-ec35-64c59f2d5093"
      },
      "source": [
        "# Add a vector to each column of a matrix\n",
        "# x has shape (2, 3) and w has shape (2,).\n",
        "# If we transpose x then it has shape (3, 2) and can be broadcast\n",
        "# against w to yield a result of shape (3, 2); transposing this result\n",
        "# yields the final result of shape (2, 3) which is the matrix x with\n",
        "# the vector w added to each column. Gives the following matrix:\n",
        "print(x.T)\n",
        "print(w)\n",
        "print((x.T + w).T)"
      ],
      "execution_count": 41,
      "outputs": [
        {
          "output_type": "stream",
          "text": [
            "[[1 4]\n",
            " [2 5]\n",
            " [3 6]]\n",
            "[4 5]\n",
            "[[ 5  6  7]\n",
            " [ 9 10 11]]\n"
          ],
          "name": "stdout"
        }
      ]
    },
    {
      "cell_type": "code",
      "metadata": {
        "id": "ERNhyXkvl8xu",
        "colab_type": "code",
        "colab": {
          "base_uri": "https://localhost:8080/",
          "height": 126
        },
        "outputId": "3d41c688-05ba-481a-f145-f4059214eb4a"
      },
      "source": [
        "# Another solution is to reshape w to be a row vector of shape (2, 1);\n",
        "# we can then broadcast it directly against x to produce the same\n",
        "# output.\n",
        "print(x)\n",
        "print(np.reshape(w, (2, 1)))\n",
        "print(x + np.reshape(w, (2, 1)))"
      ],
      "execution_count": 39,
      "outputs": [
        {
          "output_type": "stream",
          "text": [
            "[[1 2 3]\n",
            " [4 5 6]]\n",
            "[[4]\n",
            " [5]]\n",
            "[[ 5  6  7]\n",
            " [ 9 10 11]]\n"
          ],
          "name": "stdout"
        }
      ]
    },
    {
      "cell_type": "code",
      "metadata": {
        "id": "8uHNY62wl92F",
        "colab_type": "code",
        "colab": {}
      },
      "source": [
        "# Multiply a matrix by a constant:\n",
        "# x has shape (2, 3). Numpy treats scalars as arrays of shape ();\n",
        "# these can be broadcast together to shape (2, 3), producing the\n",
        "# following array:\n",
        "print(x * 2)"
      ],
      "execution_count": 0,
      "outputs": []
    },
    {
      "cell_type": "markdown",
      "metadata": {
        "colab_type": "text",
        "id": "4xbJOXkNjzjm"
      },
      "source": [
        "## Universal Functions\n",
        "NumPy provides familiar mathematical functions such as sin, cos, and exp. In NumPy, these are called “universal functions”(ufunc). Within NumPy, these functions operate elementwise on an array, producing an array as output."
      ]
    },
    {
      "cell_type": "code",
      "metadata": {
        "colab_type": "code",
        "outputId": "19575cef-7df5-47f0-ac53-68e86077fd9b",
        "id": "wzKNwACRjzje",
        "colab": {
          "base_uri": "https://localhost:8080/",
          "height": 129
        }
      },
      "source": [
        "print(np.exp(a))\n",
        "print(np.sin(a))"
      ],
      "execution_count": 0,
      "outputs": [
        {
          "output_type": "stream",
          "text": [
            "[[1.00000000e+00 2.71828183e+00 7.38905610e+00 2.00855369e+01]\n",
            " [5.45981500e+01 1.48413159e+02 4.03428793e+02 1.09663316e+03]\n",
            " [2.98095799e+03 8.10308393e+03 2.20264658e+04 5.98741417e+04]]\n",
            "[[ 0.          0.84147098  0.90929743  0.14112001]\n",
            " [-0.7568025  -0.95892427 -0.2794155   0.6569866 ]\n",
            " [ 0.98935825  0.41211849 -0.54402111 -0.99999021]]\n"
          ],
          "name": "stdout"
        }
      ]
    },
    {
      "cell_type": "code",
      "metadata": {
        "colab_type": "code",
        "outputId": "9a60f6db-2aff-4ebb-af63-ba0aa885c23f",
        "id": "68iqi9P1jzjY",
        "colab": {
          "base_uri": "https://localhost:8080/",
          "height": 73
        }
      },
      "source": [
        "a = np.array([[10, 11, 12],\n",
        "              [13, 14, 15]])\n",
        "\n",
        "print(np.argmax(a))\n",
        "print(np.argmax(a, axis=0))\n",
        "print(np.argmax(a, axis=1))"
      ],
      "execution_count": 0,
      "outputs": [
        {
          "output_type": "stream",
          "text": [
            "5\n",
            "[1 1 1]\n",
            "[2 2]\n"
          ],
          "name": "stdout"
        }
      ]
    },
    {
      "cell_type": "markdown",
      "metadata": {
        "colab_type": "text",
        "id": "hDTP6uLojzjW"
      },
      "source": [
        "## Indexing, Slicing and Iterating"
      ]
    },
    {
      "cell_type": "code",
      "metadata": {
        "colab_type": "code",
        "outputId": "819bef7e-768e-4ca7-b539-ff8ef33b6689",
        "id": "jL5WpAjNjzjP",
        "colab": {
          "base_uri": "https://localhost:8080/",
          "height": 111
        }
      },
      "source": [
        "a = np.arange(10)**3\n",
        "print('a= ',a)\n",
        "print('a[2:5] =',a[2:5])\n",
        "print('a[0:8:2] =',a[0:8:2])\n",
        "print('a[:8:2]  =',a[:8:2])\n",
        "print(a[ : :-1] )            # reversed a\n",
        "\n"
      ],
      "execution_count": 0,
      "outputs": [
        {
          "output_type": "stream",
          "text": [
            "a=  [  0   1   8  27  64 125 216 343 512 729]\n",
            "a[2:5] = [ 8 27 64]\n",
            "a[0:8:2] = [  0   8  64 216]\n",
            "a[:8:2]  = [  0   8  64 216]\n",
            "[729 512 343 216 125  64  27   8   1   0]\n"
          ],
          "name": "stdout"
        }
      ]
    },
    {
      "cell_type": "code",
      "metadata": {
        "colab_type": "code",
        "outputId": "4cf89721-dad7-46df-ecc1-d4d03d4960e6",
        "id": "4zMqBNDKjzjF",
        "colab": {
          "base_uri": "https://localhost:8080/",
          "height": 204
        }
      },
      "source": [
        "for i in a:\n",
        "  print(i)"
      ],
      "execution_count": 0,
      "outputs": [
        {
          "output_type": "stream",
          "text": [
            "0\n",
            "1\n",
            "8\n",
            "27\n",
            "64\n",
            "125\n",
            "216\n",
            "343\n",
            "512\n",
            "729\n"
          ],
          "name": "stdout"
        }
      ]
    },
    {
      "cell_type": "code",
      "metadata": {
        "colab_type": "code",
        "outputId": "f1d37cd7-19ad-4136-e677-8ab73159bd3e",
        "id": "2jD_d0EijzjA",
        "colab": {
          "base_uri": "https://localhost:8080/",
          "height": 92
        }
      },
      "source": [
        "b=np.array([[ 0,  1,  2,  3],\n",
        "            [10, 11, 12, 13],\n",
        "            [20, 21, 22, 23],\n",
        "            [30, 31, 32, 33],\n",
        "            [40, 41, 42, 43]])\n",
        "print('b[2,3] =',b[2,3])\n",
        "print('b[2:5, 1] =',b[2:5, 1])         # each row in the second column of b\n",
        "print('b[ : ,1] =', b[ : ,1])          #all rows x col 1\n",
        "print('b[-1] =', b[-1])                # the last row. Equivalent to b[-1,:]"
      ],
      "execution_count": 0,
      "outputs": [
        {
          "output_type": "stream",
          "text": [
            "b[2,3] = 23\n",
            "b[2:5, 1] = [21 31 41]\n",
            "b[ : ,1] = [ 1 11 21 31 41]\n",
            "b[-1] = [40 41 42 43]\n"
          ],
          "name": "stdout"
        }
      ]
    },
    {
      "cell_type": "code",
      "metadata": {
        "colab_type": "code",
        "id": "QDMVI9Ihjzi6",
        "colab": {}
      },
      "source": [
        "# The dots (...) represent as many colons as needed to produce a complete indexing tuple.\n",
        "# For example, if x is an array with 5 axes, then\n",
        "\n",
        "#     x[1,2,...] is equivalent to x[1,2,:,:,:],\n",
        "#     x[...,3] to x[:,:,:,:,3] \n",
        "#     x[4,...,5,:] to x[4,:,:,5,:].\n",
        "c = np.array( [[ [ 0,  1,  2],               # a 3D array (two stacked 2D arrays)\n",
        "                 [ 10, 12, 13]],\n",
        "                 [[100,101,102],\n",
        "                 [110,112,113]]])\n",
        "c[1,...]                                   # same as c[1,:,:] or c[1]\n"
      ],
      "execution_count": 0,
      "outputs": []
    },
    {
      "cell_type": "markdown",
      "metadata": {
        "colab_type": "text",
        "id": "6U0qr40yjzi4"
      },
      "source": [
        "## Shape Manipulation"
      ]
    },
    {
      "cell_type": "code",
      "metadata": {
        "colab_type": "code",
        "outputId": "5d1604ab-abc2-4cab-bb57-cbad99600e50",
        "id": "pZs0zBmZjziy",
        "colab": {
          "base_uri": "https://localhost:8080/",
          "height": 36
        }
      },
      "source": [
        "a=np.array([[ 2.,  8.,  0.,  6.],\n",
        "            [ 4.,  5.,  1.,  1.],\n",
        "            [ 8.,  9.,  3.,  6.]])\n",
        "# The shape of an array can be changed with various commands. \n",
        "# Note that the following three commands all return a modified array, but do not change the original array:\n",
        "a.shape\n"
      ],
      "execution_count": 0,
      "outputs": [
        {
          "output_type": "execute_result",
          "data": {
            "text/plain": [
              "(3, 4)"
            ]
          },
          "metadata": {
            "tags": []
          },
          "execution_count": 57
        }
      ]
    },
    {
      "cell_type": "code",
      "metadata": {
        "colab_type": "code",
        "outputId": "368c54e7-9d58-4d17-e8a9-ed00e247ecd8",
        "id": "SV2M1vLljziq",
        "colab": {
          "base_uri": "https://localhost:8080/",
          "height": 36
        }
      },
      "source": [
        "a.ravel()  # returns the array, flattened"
      ],
      "execution_count": 0,
      "outputs": [
        {
          "output_type": "execute_result",
          "data": {
            "text/plain": [
              "array([2., 8., 0., 6., 4., 5., 1., 1., 8., 9., 3., 6.])"
            ]
          },
          "metadata": {
            "tags": []
          },
          "execution_count": 58
        }
      ]
    },
    {
      "cell_type": "code",
      "metadata": {
        "colab_type": "code",
        "outputId": "11de2fb7-7b8f-4cd0-97b7-96570211b9d5",
        "id": "OE4Enx1ujzij",
        "colab": {
          "base_uri": "https://localhost:8080/",
          "height": 129
        }
      },
      "source": [
        "a.reshape(6,2)  # returns the array with a modified shape"
      ],
      "execution_count": 0,
      "outputs": [
        {
          "output_type": "execute_result",
          "data": {
            "text/plain": [
              "array([[2., 8.],\n",
              "       [0., 6.],\n",
              "       [4., 5.],\n",
              "       [1., 1.],\n",
              "       [8., 9.],\n",
              "       [3., 6.]])"
            ]
          },
          "metadata": {
            "tags": []
          },
          "execution_count": 59
        }
      ]
    },
    {
      "cell_type": "code",
      "metadata": {
        "colab_type": "code",
        "id": "q3PI1kCqjzia",
        "colab": {}
      },
      "source": [
        "# If a dimension is given as -1 in a reshaping operation, the other dimensions are automatically calculated:\n",
        "a.reshape(3,-1)"
      ],
      "execution_count": 0,
      "outputs": []
    },
    {
      "cell_type": "code",
      "metadata": {
        "colab_type": "code",
        "outputId": "4c422be8-2413-41ed-aba8-84d5271f70ba",
        "id": "tUuQz2POjziT",
        "colab": {
          "base_uri": "https://localhost:8080/",
          "height": 111
        }
      },
      "source": [
        "#The reshape function returns its argument with a modified shape, whereas the ndarray.resize method modifies the array itself:\n",
        "print(a)\n",
        "a.resize((2,6))                   #equivalent to a=a.reshape((2,6))\n",
        "print(a)"
      ],
      "execution_count": 0,
      "outputs": [
        {
          "output_type": "stream",
          "text": [
            "[[2. 8. 0. 6.]\n",
            " [4. 5. 1. 1.]\n",
            " [8. 9. 3. 6.]]\n"
          ],
          "name": "stdout"
        },
        {
          "output_type": "execute_result",
          "data": {
            "text/plain": [
              "array([[2., 8., 0., 6., 4., 5.],\n",
              "       [1., 1., 8., 9., 3., 6.]])"
            ]
          },
          "metadata": {
            "tags": []
          },
          "execution_count": 60
        }
      ]
    },
    {
      "cell_type": "code",
      "metadata": {
        "colab_type": "code",
        "outputId": "f4f5aed1-8ff8-46c2-9cb9-e7aebd52e7f1",
        "id": "rQr4NFJTjziK",
        "colab": {
          "base_uri": "https://localhost:8080/",
          "height": 129
        }
      },
      "source": [
        "a.T  # returns the array, transposed"
      ],
      "execution_count": 0,
      "outputs": [
        {
          "output_type": "execute_result",
          "data": {
            "text/plain": [
              "array([[2., 1.],\n",
              "       [8., 1.],\n",
              "       [0., 8.],\n",
              "       [6., 9.],\n",
              "       [4., 3.],\n",
              "       [5., 6.]])"
            ]
          },
          "metadata": {
            "tags": []
          },
          "execution_count": 61
        }
      ]
    },
    {
      "cell_type": "markdown",
      "metadata": {
        "id": "1KznqkD7DXKN",
        "colab_type": "text"
      },
      "source": [
        "### Stacking together different arrays¶"
      ]
    },
    {
      "cell_type": "code",
      "metadata": {
        "colab_type": "code",
        "id": "dg1Zs-24jzh8",
        "colab": {
          "base_uri": "https://localhost:8080/",
          "height": 126
        },
        "outputId": "ff05a8ba-0472-4810-f211-c0175c710068"
      },
      "source": [
        "a=np.array([[ 0.,  0.],\n",
        "            [ 0.,  0.],\n",
        "            [ 0.,  0.]])\n",
        "b=np.array([[ 1.,  1.],\n",
        "            [ 1.,  1.],\n",
        "           [ 1.,  1.]])\n",
        "            \n",
        "np.vstack((a,b))"
      ],
      "execution_count": 46,
      "outputs": [
        {
          "output_type": "execute_result",
          "data": {
            "text/plain": [
              "array([[0., 0.],\n",
              "       [0., 0.],\n",
              "       [0., 0.],\n",
              "       [1., 1.],\n",
              "       [1., 1.],\n",
              "       [1., 1.]])"
            ]
          },
          "metadata": {
            "tags": []
          },
          "execution_count": 46
        }
      ]
    },
    {
      "cell_type": "code",
      "metadata": {
        "id": "TlXYnkX2EFYm",
        "colab_type": "code",
        "colab": {
          "base_uri": "https://localhost:8080/",
          "height": 72
        },
        "outputId": "6dc3cc39-ded0-4832-dc54-13f3de555cd8"
      },
      "source": [
        "np.hstack((a,b))"
      ],
      "execution_count": 47,
      "outputs": [
        {
          "output_type": "execute_result",
          "data": {
            "text/plain": [
              "array([[0., 0., 1., 1.],\n",
              "       [0., 0., 1., 1.],\n",
              "       [0., 0., 1., 1.]])"
            ]
          },
          "metadata": {
            "tags": []
          },
          "execution_count": 47
        }
      ]
    },
    {
      "cell_type": "markdown",
      "metadata": {
        "id": "zaUWSesCFJcq",
        "colab_type": "text"
      },
      "source": [
        "The function column_stack stacks 1D arrays as columns into a 2D array. It is equivalent to hstack only for 2D arrays:"
      ]
    },
    {
      "cell_type": "code",
      "metadata": {
        "id": "SDycbc4jFITB",
        "colab_type": "code",
        "colab": {
          "base_uri": "https://localhost:8080/",
          "height": 54
        },
        "outputId": "edb1058d-a7d8-4022-c8a6-c1c5700307f4"
      },
      "source": [
        "np.column_stack((a,b))     # with 2D arrays    => the same as hstack\n",
        "\n"
      ],
      "execution_count": 49,
      "outputs": [
        {
          "output_type": "execute_result",
          "data": {
            "text/plain": [
              "array([[4., 3.],\n",
              "       [2., 8.]])"
            ]
          },
          "metadata": {
            "tags": []
          },
          "execution_count": 49
        }
      ]
    },
    {
      "cell_type": "code",
      "metadata": {
        "id": "iIcSwp9IFkmQ",
        "colab_type": "code",
        "colab": {
          "base_uri": "https://localhost:8080/",
          "height": 108
        },
        "outputId": "c687b324-0f7c-4257-8b70-ba370d50937c"
      },
      "source": [
        "a = np.array([4.,2.])\n",
        "b = np.array([3.,8.])\n",
        "print(np.column_stack((a,b)) )    # returns a 2D array\n",
        "\n",
        "print(np.hstack((a,b)))        # the result is different\n",
        "print(np.vstack((a,b)) )"
      ],
      "execution_count": 52,
      "outputs": [
        {
          "output_type": "stream",
          "text": [
            "[[4. 3.]\n",
            " [2. 8.]]\n",
            "[4. 2. 3. 8.]\n",
            "[[4. 2.]\n",
            " [3. 8.]]\n"
          ],
          "name": "stdout"
        }
      ]
    },
    {
      "cell_type": "markdown",
      "metadata": {
        "id": "FHQMEyQ_Hrny",
        "colab_type": "text"
      },
      "source": [
        "### Copies and Views\n",
        "When operating and manipulating arrays, their data is sometimes copied into a new array and sometimes not. \n",
        "There are three cases:\n",
        "\n"
      ]
    },
    {
      "cell_type": "markdown",
      "metadata": {
        "id": "n-lffzeuH9ee",
        "colab_type": "text"
      },
      "source": [
        "\n",
        "**1.**   ***No Copy at All***\n",
        "Simple assignments make no copy of array objects or of their data."
      ]
    },
    {
      "cell_type": "code",
      "metadata": {
        "id": "UvSWgF6CEKju",
        "colab_type": "code",
        "colab": {
          "base_uri": "https://localhost:8080/",
          "height": 35
        },
        "outputId": "668895a3-f484-40c7-9fc9-a380433e9a74"
      },
      "source": [
        "a = np.arange(12)\n",
        "b = a            # no new object is created\n",
        "b is a           # a and b are two names for the same ndarray object\n"
      ],
      "execution_count": 53,
      "outputs": [
        {
          "output_type": "execute_result",
          "data": {
            "text/plain": [
              "True"
            ]
          },
          "metadata": {
            "tags": []
          },
          "execution_count": 53
        }
      ]
    },
    {
      "cell_type": "code",
      "metadata": {
        "id": "u1nXA3LxIVCK",
        "colab_type": "code",
        "colab": {
          "base_uri": "https://localhost:8080/",
          "height": 35
        },
        "outputId": "9f77291e-de03-43ab-ff80-d323f775eb65"
      },
      "source": [
        "b.shape = 3,4    # changes the shape of a\n",
        "a.shape\n",
        "(3, 4)"
      ],
      "execution_count": 54,
      "outputs": [
        {
          "output_type": "execute_result",
          "data": {
            "text/plain": [
              "(3, 4)"
            ]
          },
          "metadata": {
            "tags": []
          },
          "execution_count": 54
        }
      ]
    },
    {
      "cell_type": "code",
      "metadata": {
        "id": "y-Bn4ZukIT3R",
        "colab_type": "code",
        "colab": {
          "base_uri": "https://localhost:8080/",
          "height": 54
        },
        "outputId": "1a915b8f-7b12-42aa-8a52-6d13afe535d1"
      },
      "source": [
        "print(id(a))\n",
        "print(id(b))"
      ],
      "execution_count": 55,
      "outputs": [
        {
          "output_type": "stream",
          "text": [
            "140439681293408\n",
            "140439681293408\n"
          ],
          "name": "stdout"
        }
      ]
    },
    {
      "cell_type": "markdown",
      "metadata": {
        "id": "1jbGafSTI5xf",
        "colab_type": "text"
      },
      "source": [
        "\n",
        "***2.   View or Shallow Copy:***\n",
        "Different array objects can share the same data. The view method creates a new array object that looks at the same data.\n",
        "\n"
      ]
    },
    {
      "cell_type": "code",
      "metadata": {
        "id": "dueJCYC0IvjY",
        "colab_type": "code",
        "colab": {
          "base_uri": "https://localhost:8080/",
          "height": 54
        },
        "outputId": "411db57b-0f03-4915-f239-4cede19735a5"
      },
      "source": [
        "c = a.view()\n",
        "print(c is a)\n",
        "print(c.base is a   )                     # c is a view of the data owned by "
      ],
      "execution_count": 56,
      "outputs": [
        {
          "output_type": "stream",
          "text": [
            "False\n",
            "True\n"
          ],
          "name": "stdout"
        }
      ]
    },
    {
      "cell_type": "code",
      "metadata": {
        "id": "LS1j5DyuJVvA",
        "colab_type": "code",
        "colab": {
          "base_uri": "https://localhost:8080/",
          "height": 35
        },
        "outputId": "96286400-2a20-41df-dc17-37e88436753e"
      },
      "source": [
        "c.shape = 2,6                      # a's shape doesn't change\n",
        "a.shape"
      ],
      "execution_count": 57,
      "outputs": [
        {
          "output_type": "execute_result",
          "data": {
            "text/plain": [
              "(3, 4)"
            ]
          },
          "metadata": {
            "tags": []
          },
          "execution_count": 57
        }
      ]
    },
    {
      "cell_type": "code",
      "metadata": {
        "id": "czQvFTJxLecv",
        "colab_type": "code",
        "colab": {
          "base_uri": "https://localhost:8080/",
          "height": 72
        },
        "outputId": "93ecb6a4-246c-4a79-cfc8-fce47a11266f"
      },
      "source": [
        "c[0,4] = 1234                      # a's data changes\n",
        "a\n"
      ],
      "execution_count": 58,
      "outputs": [
        {
          "output_type": "execute_result",
          "data": {
            "text/plain": [
              "array([[   0,    1,    2,    3],\n",
              "       [1234,    5,    6,    7],\n",
              "       [   8,    9,   10,   11]])"
            ]
          },
          "metadata": {
            "tags": []
          },
          "execution_count": 58
        }
      ]
    },
    {
      "cell_type": "markdown",
      "metadata": {
        "id": "eTB0atTyL5Do",
        "colab_type": "text"
      },
      "source": [
        "Hint:\n",
        "Slicing an array returns a view of it:\n"
      ]
    },
    {
      "cell_type": "code",
      "metadata": {
        "id": "JhWaqvUGL358",
        "colab_type": "code",
        "colab": {
          "base_uri": "https://localhost:8080/",
          "height": 72
        },
        "outputId": "6c99329c-ae8d-42d2-a406-e122585191a4"
      },
      "source": [
        "\n",
        "s = a[ : , 1:3]     # spaces added for clarity; could also be written \"s = a[:,1:3]\"\n",
        "s[:] = 10           # s[:] is a view of s. Note the difference between s=10 and s[:]=10\n",
        "a\n"
      ],
      "execution_count": 61,
      "outputs": [
        {
          "output_type": "execute_result",
          "data": {
            "text/plain": [
              "array([[ 0, 10, 10,  3],\n",
              "       [ 4, 10, 10,  7],\n",
              "       [ 8, 10, 10, 11]])"
            ]
          },
          "metadata": {
            "tags": []
          },
          "execution_count": 61
        }
      ]
    },
    {
      "cell_type": "markdown",
      "metadata": {
        "id": "MH_O62pAJb8L",
        "colab_type": "text"
      },
      "source": [
        "\n",
        "\n",
        "***3.   Deep Copy:***\n",
        "\n",
        "The copy method makes a complete copy of the array and its data.\n",
        "\n"
      ]
    },
    {
      "cell_type": "code",
      "metadata": {
        "id": "Cb_i3bGQMNf0",
        "colab_type": "code",
        "colab": {}
      },
      "source": [
        "a = np.arange(12)\n",
        "a.shape=3,4"
      ],
      "execution_count": 0,
      "outputs": []
    },
    {
      "cell_type": "code",
      "metadata": {
        "id": "9HQJEPKBJlOP",
        "colab_type": "code",
        "colab": {
          "base_uri": "https://localhost:8080/",
          "height": 54
        },
        "outputId": "1fd74a5e-cd02-4076-da7c-10c4b0dd7354"
      },
      "source": [
        "d = a.copy()                          # a new array object with new data is created\n",
        "print(d is a)\n",
        "print(d.base is a )                   # d doesn't share anything with a"
      ],
      "execution_count": 63,
      "outputs": [
        {
          "output_type": "stream",
          "text": [
            "False\n",
            "False\n"
          ],
          "name": "stdout"
        }
      ]
    },
    {
      "cell_type": "code",
      "metadata": {
        "id": "2pTvCSWVLlvK",
        "colab_type": "code",
        "colab": {
          "base_uri": "https://localhost:8080/",
          "height": 72
        },
        "outputId": "bbed3f4c-831c-4b48-9b77-0d709e7b1a93"
      },
      "source": [
        "d[0,0] = 9999\n",
        "a"
      ],
      "execution_count": 64,
      "outputs": [
        {
          "output_type": "execute_result",
          "data": {
            "text/plain": [
              "array([[ 0,  1,  2,  3],\n",
              "       [ 4,  5,  6,  7],\n",
              "       [ 8,  9, 10, 11]])"
            ]
          },
          "metadata": {
            "tags": []
          },
          "execution_count": 64
        }
      ]
    },
    {
      "cell_type": "code",
      "metadata": {
        "id": "w5AgtAH0JW1H",
        "colab_type": "code",
        "colab": {}
      },
      "source": [
        ""
      ],
      "execution_count": 0,
      "outputs": []
    }
  ]
}