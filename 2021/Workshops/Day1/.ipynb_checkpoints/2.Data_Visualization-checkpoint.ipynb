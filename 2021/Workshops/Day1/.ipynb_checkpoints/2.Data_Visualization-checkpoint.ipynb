{
 "cells": [
  {
   "cell_type": "markdown",
   "metadata": {
    "colab_type": "text",
    "id": "MmWVVqx4RFhN"
   },
   "source": [
    "# ----------------------------------------------Numpy-------------------------------------------------\n",
    "Numpy is the core library for scientific computing in Python (see the full [documentation](https://numpy.org/devdocs/user/quickstart.html) which is available online). It provides a high-performance multidimensional array object, and tools for working with these arrays. If you are already familiar with MATLAB, you might find this tutorial useful to get started with Numpy."
   ]
  },
  {
   "cell_type": "code",
   "execution_count": null,
   "metadata": {
    "colab": {},
    "colab_type": "code",
    "id": "Nc05X4MJjpXv"
   },
   "outputs": [],
   "source": [
    "import numpy as np"
   ]
  },
  {
   "cell_type": "markdown",
   "metadata": {
    "colab_type": "text",
    "id": "Lfv2UrCxRzck"
   },
   "source": [
    "A numpy array is a grid of values, all of the same type, and is indexed by a tuple of nonnegative integers. The number of dimensions is the rank of the array; the shape of an array is a tuple of integers giving the size of the array along each dimension."
   ]
  },
  {
   "cell_type": "code",
   "execution_count": null,
   "metadata": {
    "colab": {
     "base_uri": "https://localhost:8080/",
     "height": 35
    },
    "colab_type": "code",
    "id": "c2ADEa06R2Qz",
    "outputId": "7ca23e17-10fc-4816-a686-5b1a5971b609"
   },
   "outputs": [],
   "source": [
    "np.array([2,3,4])             #create numpy array with initial values"
   ]
  },
  {
   "cell_type": "code",
   "execution_count": null,
   "metadata": {
    "colab": {
     "base_uri": "https://localhost:8080/",
     "height": 35
    },
    "colab_type": "code",
    "id": "dgKGnaKfjwpw",
    "outputId": "d3fec0c2-3c98-4630-99c4-1c53ed630c15"
   },
   "outputs": [],
   "source": [
    "np.arange(15)                  #range from 0 to 15-1"
   ]
  },
  {
   "cell_type": "code",
   "execution_count": null,
   "metadata": {
    "colab": {},
    "colab_type": "code",
    "id": "J0P2AXiikpXh"
   },
   "outputs": [],
   "source": [
    "np.arange( 0, 2, 0.3 )    #start   end     step"
   ]
  },
  {
   "cell_type": "code",
   "execution_count": null,
   "metadata": {
    "colab": {},
    "colab_type": "code",
    "id": "fy01JxQblN9i"
   },
   "outputs": [],
   "source": [
    "np.linspace( 0, 2, 9 )             # start         end         number of elements that we want"
   ]
  },
  {
   "cell_type": "code",
   "execution_count": null,
   "metadata": {
    "colab": {},
    "colab_type": "code",
    "id": "FqlRI-wjj6gF"
   },
   "outputs": [],
   "source": [
    "np.zeros( (3,4) )                  #array of zeros"
   ]
  },
  {
   "cell_type": "code",
   "execution_count": null,
   "metadata": {
    "colab": {},
    "colab_type": "code",
    "id": "gmKdUPwzkDNQ"
   },
   "outputs": [],
   "source": [
    "np.ones( (2,2), dtype=np.int16 )      #array of  ones"
   ]
  },
  {
   "cell_type": "code",
   "execution_count": null,
   "metadata": {
    "colab": {},
    "colab_type": "code",
    "id": "Cokn84nZlvJb"
   },
   "outputs": [],
   "source": [
    "a=np.array([1,2,3])\n",
    "np.ones_like(a)"
   ]
  },
  {
   "cell_type": "code",
   "execution_count": null,
   "metadata": {
    "colab": {},
    "colab_type": "code",
    "id": "TW2wl-S-kPaP"
   },
   "outputs": [],
   "source": [
    "np.arange(15)"
   ]
  },
  {
   "cell_type": "code",
   "execution_count": null,
   "metadata": {
    "colab": {
     "base_uri": "https://localhost:8080/",
     "height": 145
    },
    "colab_type": "code",
    "id": "4E1TpsrmpJ36",
    "outputId": "76d649d4-c6fb-4181-bf61-4f110ac27f5a"
   },
   "outputs": [],
   "source": [
    "np.random.random((2,3,4))              #random numbers between 0-1"
   ]
  },
  {
   "cell_type": "code",
   "execution_count": null,
   "metadata": {
    "colab": {
     "base_uri": "https://localhost:8080/",
     "height": 72
    },
    "colab_type": "code",
    "id": "N18G4QH079rO",
    "outputId": "afea0ac9-e501-4705-abd1-53d8ec850d38"
   },
   "outputs": [],
   "source": [
    "np.full((3,2), 4) # Create a constant array"
   ]
  },
  {
   "cell_type": "code",
   "execution_count": null,
   "metadata": {
    "colab": {
     "base_uri": "https://localhost:8080/",
     "height": 90
    },
    "colab_type": "code",
    "id": "uOF1uYVY8G6T",
    "outputId": "2fc9197d-def7-4c9b-febf-0501622636cf"
   },
   "outputs": [],
   "source": [
    "np.eye(4)        # Create a 4x4 identity matrix"
   ]
  },
  {
   "cell_type": "code",
   "execution_count": null,
   "metadata": {
    "colab": {
     "base_uri": "https://localhost:8080/",
     "height": 35
    },
    "colab_type": "code",
    "id": "nBPRO9l9qoWT",
    "outputId": "e7f80b3b-cbba-47a1-94c4-6f3ce352a149"
   },
   "outputs": [],
   "source": [
    "a = np.array([0, 1, 2])                      #np.tile(a, reps) create an array by repeating a the number of times given by reps \n",
    "np.tile(a, 3)"
   ]
  },
  {
   "cell_type": "code",
   "execution_count": null,
   "metadata": {
    "colab": {
     "base_uri": "https://localhost:8080/",
     "height": 54
    },
    "colab_type": "code",
    "id": "4-4D67oEtcv1",
    "outputId": "d4eca60b-f6f2-423c-d53d-0fa429f23191"
   },
   "outputs": [],
   "source": [
    "a = np.array([0, 1, 2,3])\n",
    "np.tile(a, (2, 2))"
   ]
  },
  {
   "cell_type": "code",
   "execution_count": null,
   "metadata": {
    "colab": {
     "base_uri": "https://localhost:8080/",
     "height": 72
    },
    "colab_type": "code",
    "id": "2XbonozPmGsx",
    "outputId": "9cfaf159-debc-4bde-d1b2-5f91ce8a07e1"
   },
   "outputs": [],
   "source": [
    "a = np.random.random((2,3,4)) \n",
    "print(a.shape)\n",
    "a.reshape(6,4)               #a still the same\n",
    "print(a.shape)\n",
    "a=a.reshape(6,4)               #a.reshape() return a new array\n",
    "print(a.shape)\n"
   ]
  },
  {
   "cell_type": "code",
   "execution_count": null,
   "metadata": {
    "colab": {
     "base_uri": "https://localhost:8080/",
     "height": 90
    },
    "colab_type": "code",
    "id": "Jo0qk5famLZM",
    "outputId": "f41e9c6d-ba70-4617-dd4d-938f14d89d83"
   },
   "outputs": [],
   "source": [
    "print('the number of axes (dimensions) of the array. =',a.ndim)\n",
    "print('the dimensions of the array =',a.shape)\n",
    "print('the total number of elements of the array =',a.size)\n",
    "print('a.ndim =',a.ndim)"
   ]
  },
  {
   "cell_type": "markdown",
   "metadata": {
    "colab_type": "text",
    "id": "wDXQHIppnihv"
   },
   "source": [
    "### Basic Operations"
   ]
  },
  {
   "cell_type": "code",
   "execution_count": null,
   "metadata": {
    "colab": {},
    "colab_type": "code",
    "id": "CFRDXlTAnpBn"
   },
   "outputs": [],
   "source": [
    "A = np.array( [[1,1],\n",
    "           [0,1]] )\n",
    "B = np.array( [[2,0],\n",
    "            [3,4]] )"
   ]
  },
  {
   "cell_type": "code",
   "execution_count": null,
   "metadata": {
    "colab": {
     "base_uri": "https://localhost:8080/",
     "height": 126
    },
    "colab_type": "code",
    "id": "AT1Chi2-nyG6",
    "outputId": "a2a87c07-0ccc-4502-85fb-461fd5c6c1dc"
   },
   "outputs": [],
   "source": [
    "# Arithmetic operators on arrays apply elementwise\n",
    "print( 'A+B= \\n', A+B )\n",
    "print( '2*A= \\n',2*A)"
   ]
  },
  {
   "cell_type": "code",
   "execution_count": null,
   "metadata": {
    "colab": {
     "base_uri": "https://localhost:8080/",
     "height": 54
    },
    "colab_type": "code",
    "id": "efb4yFnHn5KR",
    "outputId": "ade4ccc9-26de-4610-ecb1-efeb1607a089"
   },
   "outputs": [],
   "source": [
    "# Unlike in many matrix languages, the product operator * operates elementwise in NumPy arrays. \n",
    "# The matrix product can be performed using the @ operator (in python >=3.5) or the dot function or method:\n",
    " \n",
    "A * B                       # elementwise product"
   ]
  },
  {
   "cell_type": "code",
   "execution_count": null,
   "metadata": {
    "colab": {
     "base_uri": "https://localhost:8080/",
     "height": 54
    },
    "colab_type": "code",
    "id": "IcH4SDNeoh3l",
    "outputId": "e6424b35-c879-468c-baf9-7e06cd32b9f7"
   },
   "outputs": [],
   "source": [
    "A @ B                       # matrix product"
   ]
  },
  {
   "cell_type": "code",
   "execution_count": null,
   "metadata": {
    "colab": {
     "base_uri": "https://localhost:8080/",
     "height": 54
    },
    "colab_type": "code",
    "id": "hZwH-z8lokxe",
    "outputId": "a7287c4a-69dc-43fd-b3e4-483d02a30020"
   },
   "outputs": [],
   "source": [
    "A.dot(B)                    # another matrix product"
   ]
  },
  {
   "cell_type": "code",
   "execution_count": null,
   "metadata": {
    "colab": {},
    "colab_type": "code",
    "id": "CotrRzV09aGW"
   },
   "outputs": [],
   "source": [
    "#Also\n",
    "np.dot(A, B)"
   ]
  },
  {
   "cell_type": "code",
   "execution_count": null,
   "metadata": {
    "colab": {},
    "colab_type": "code",
    "id": "vVwY-cQdooif"
   },
   "outputs": [],
   "source": [
    "a=np.arange(12).reshape(3,4)\n",
    "a"
   ]
  },
  {
   "cell_type": "code",
   "execution_count": null,
   "metadata": {
    "colab": {},
    "colab_type": "code",
    "id": "hr0DFg-7piLx"
   },
   "outputs": [],
   "source": [
    "print('sum =',a.sum())\n",
    "print('min ',a.min())\n",
    "print('max =',a.max())\n",
    "print( 'sum on rows  ',a.sum(axis=0) )"
   ]
  },
  {
   "cell_type": "markdown",
   "metadata": {
    "colab_type": "text",
    "id": "dKYxreRgjzj0"
   },
   "source": [
    "##Broadcasting\n",
    "\n",
    "Broadcasting is a powerful mechanism that allows numpy to work with arrays of different shapes when performing arithmetic operations. Frequently we have a smaller array and a larger array, and we want to use the smaller array multiple times to perform some operation on the larger array.\n",
    "\n",
    "For example, suppose that we want to add a constant vector to each row of a matrix. We could do it like this:"
   ]
  },
  {
   "cell_type": "code",
   "execution_count": null,
   "metadata": {
    "colab": {
     "base_uri": "https://localhost:8080/",
     "height": 108
    },
    "colab_type": "code",
    "id": "OUvwvfQ7jzju",
    "outputId": "cec9d670-2fe8-4894-a471-f5827ad635a1"
   },
   "outputs": [],
   "source": [
    "import time\n",
    "# We will add the vector v to each row of the matrix x,\n",
    "# storing the result in the matrix y\n",
    "x = np.array([[1,2,3], [4,5,6], [7,8,9], [10, 11, 12]])\n",
    "v = np.array([1, 0, 1])\n",
    "y = np.empty_like(x)   # Create an empty matrix with the same shape as x\n",
    "\n",
    "# Add the vector v to each row of the matrix x with an explicit loop\n",
    "t1=time.time()\n",
    "for i in range(4):\n",
    "    y[i, :] = x[i, :] + v\n",
    "t2=time.time()\n",
    "\n",
    "print('time=',t2-t1)\n",
    "print(y)"
   ]
  },
  {
   "cell_type": "markdown",
   "metadata": {
    "colab_type": "text",
    "id": "5t26taVbke5-"
   },
   "source": [
    "Numpy broadcasting allows us to perform this computation without actually creating multiple copies of v. Consider this version, using broadcasting:"
   ]
  },
  {
   "cell_type": "code",
   "execution_count": null,
   "metadata": {
    "colab": {
     "base_uri": "https://localhost:8080/",
     "height": 108
    },
    "colab_type": "code",
    "id": "aTki7IoVkVjq",
    "outputId": "221fe9ca-1c28-41bb-c784-e7bbbd51643e"
   },
   "outputs": [],
   "source": [
    "# We will add the vector v to each row of the matrix x,\n",
    "# storing the result in the matrix y\n",
    "x = np.array([[1,2,3], [4,5,6], [7,8,9], [10, 11, 12]])\n",
    "v = np.array([1, 0, 1])\n",
    "t1=time.time()\n",
    "y = x + v  # Add v to each row of x using broadcasting\n",
    "t2=time.time()\n",
    "\n",
    "print(\"time=\",t2-t1)\n",
    "print(y)"
   ]
  },
  {
   "cell_type": "markdown",
   "metadata": {
    "colab_type": "text",
    "id": "_-oj1uF9kjab"
   },
   "source": [
    "The line y = x + v works even though x has shape (4, 3) and v has shape (3,) due to broadcasting; this line works as if v actually had shape (4, 3), where each row was a copy of v, and the sum was performed elementwise.\n",
    "\n",
    "Broadcasting two arrays together follows these rules:\n",
    "\n",
    "\n",
    "\n",
    "1.   If the arrays do not have the same rank, prepend the shape of the lower rank array with 1s until both shapes have the same length.\n",
    "2.   The two arrays are said to be compatible in a dimension if they have the same size in the dimension, or if one of the arrays has size 1 in that dimension.\n",
    "\n",
    "3.   The arrays can be broadcast together if they are compatible in all dimensions.\n",
    "4.   After broadcasting, each array behaves as if it had shape equal to the elementwise maximum of shapes of the two input arrays.\n",
    "\n",
    "\n",
    "5.   In any dimension where one array had size 1 and the other array had size greater than 1, the first array behaves as if it were copied along that dimension.\n",
    "\n",
    "\n",
    "Functions that support broadcasting are known as universal functions. You can find the list of all universal functions in the documentation.\n",
    "\n",
    "Here are some applications of broadcasting:"
   ]
  },
  {
   "cell_type": "code",
   "execution_count": null,
   "metadata": {
    "colab": {
     "base_uri": "https://localhost:8080/",
     "height": 108
    },
    "colab_type": "code",
    "id": "bqIvN980l1Lz",
    "outputId": "a1b2d7f8-859c-49a9-a017-b419e7d253d3"
   },
   "outputs": [],
   "source": [
    "# Add a vector to each row of a matrix\n",
    "x = np.array([[1,2,3], [4,5,6]])\n",
    "# x has shape (2, 3) and v has shape (3,) so they broadcast to (2, 3),\n",
    "# giving the following matrix:\n",
    "print(x)\n",
    "print(v)\n",
    "print(x + v)"
   ]
  },
  {
   "cell_type": "code",
   "execution_count": null,
   "metadata": {
    "colab": {
     "base_uri": "https://localhost:8080/",
     "height": 126
    },
    "colab_type": "code",
    "id": "LT40CiiHl5p2",
    "outputId": "d9c4e1ee-103c-406b-857a-330926e98710"
   },
   "outputs": [],
   "source": [
    "# Add a vector to each column of a matrix\n",
    "# x has shape (2, 3) and w has shape (2,).\n",
    "# If we transpose x then it has shape (3, 2) and can be broadcast\n",
    "# against w to yield a result of shape (3, 2); transposing this result\n",
    "# yields the final result of shape (2, 3) which is the matrix x with\n",
    "# the vector w added to each column. Gives the following matrix:\n",
    "w = np.array([10,20])\n",
    "print(\"x.T\\n\", x.T)\n",
    "print(\"w\\n\", w)\n",
    "print(\"(x.T + w).T\\n\", (x.T + w).T)"
   ]
  },
  {
   "cell_type": "code",
   "execution_count": null,
   "metadata": {
    "colab": {
     "base_uri": "https://localhost:8080/",
     "height": 126
    },
    "colab_type": "code",
    "id": "ERNhyXkvl8xu",
    "outputId": "50a25320-5085-4a9b-cad3-f8b98e0e64b9"
   },
   "outputs": [],
   "source": [
    "# Another solution is to reshape w to be a row vector of shape (2, 1);\n",
    "# we can then broadcast it directly against x to produce the same\n",
    "# output.\n",
    "print(x)\n",
    "print(np.reshape(w, (2, 1)))\n",
    "print(x + np.reshape(w, (2, 1)))"
   ]
  },
  {
   "cell_type": "code",
   "execution_count": null,
   "metadata": {
    "colab": {},
    "colab_type": "code",
    "id": "8uHNY62wl92F"
   },
   "outputs": [],
   "source": [
    "# Multiply a matrix by a constant:\n",
    "# x has shape (2, 3). Numpy treats scalars as arrays of shape ();\n",
    "# these can be broadcast together to shape (2, 3), producing the\n",
    "# following array:\n",
    "print(x * 2)"
   ]
  },
  {
   "cell_type": "markdown",
   "metadata": {
    "colab_type": "text",
    "id": "4xbJOXkNjzjm"
   },
   "source": [
    "## Universal Functions\n",
    "NumPy provides familiar mathematical functions such as sin, cos, and exp. In NumPy, these are called “universal functions”(ufunc). Within NumPy, these functions operate elementwise on an array, producing an array as output."
   ]
  },
  {
   "cell_type": "code",
   "execution_count": null,
   "metadata": {
    "colab": {
     "base_uri": "https://localhost:8080/",
     "height": 235
    },
    "colab_type": "code",
    "id": "wzKNwACRjzje",
    "outputId": "e9591ddb-8c21-401f-dd0d-43dfac34d328"
   },
   "outputs": [],
   "source": [
    "print(np.exp(a))         #elementwise  exp\n",
    "print(np.sin(a))         #elementwise  sin"
   ]
  },
  {
   "cell_type": "code",
   "execution_count": null,
   "metadata": {
    "colab": {},
    "colab_type": "code",
    "id": "68iqi9P1jzjY"
   },
   "outputs": [],
   "source": [
    "a = np.array([[10, 11, 12],\n",
    "              [13, 14, 15]])\n",
    "\n",
    "print(np.argmax(a))\n",
    "print(np.argmax(a, axis=0))\n",
    "print(np.argmax(a, axis=1))"
   ]
  },
  {
   "cell_type": "markdown",
   "metadata": {
    "colab_type": "text",
    "id": "hDTP6uLojzjW"
   },
   "source": [
    "## Indexing, Slicing and Iterating"
   ]
  },
  {
   "cell_type": "code",
   "execution_count": null,
   "metadata": {
    "colab": {
     "base_uri": "https://localhost:8080/",
     "height": 108
    },
    "colab_type": "code",
    "id": "jL5WpAjNjzjP",
    "outputId": "c0ab5e1f-6ef2-4b90-8c08-8198b51a9a9c"
   },
   "outputs": [],
   "source": [
    "a = np.arange(10)**3\n",
    "print('a= ',a)\n",
    "print('a[2:5] =',a[2:5])\n",
    "print('a[0:8:2] =',a[0:8:2])\n",
    "print('a[:8:2]  =',a[:8:2])\n",
    "print(a[ : :-1] )            # reversed a"
   ]
  },
  {
   "cell_type": "code",
   "execution_count": null,
   "metadata": {
    "colab": {
     "base_uri": "https://localhost:8080/",
     "height": 199
    },
    "colab_type": "code",
    "id": "4zMqBNDKjzjF",
    "outputId": "8bb5a5b4-f6b4-484b-ca21-91f7160ab777"
   },
   "outputs": [],
   "source": [
    "for i in a:\n",
    "  print(i)"
   ]
  },
  {
   "cell_type": "code",
   "execution_count": null,
   "metadata": {
    "colab": {
     "base_uri": "https://localhost:8080/",
     "height": 108
    },
    "colab_type": "code",
    "id": "2jD_d0EijzjA",
    "outputId": "a1f29b56-beec-4dae-f700-1f1b5c34dc72"
   },
   "outputs": [],
   "source": [
    "b=np.array([[ 0,  1,  2,  3],\n",
    "            [10, 11, 12, 13],\n",
    "            [20, 21, 22, 23],\n",
    "            [30, 31, 32, 33],\n",
    "            [40, 41, 42, 43]])\n",
    "print('b[2,3] =',b[2,3])\n",
    "print('b[2:5, 1] =',b[2:5, 1])         #  rows 2,3 and 4 in the second column of b\n",
    "print('b[ : ,1] =', b[ : ,1])          #all rows x col 1\n",
    "print('b[-1] =', b[-1])                # the last row. Equivalent to b[-1,:]\n",
    "print('b[-1,-1] =', b[-1,-1])            #last row and last col"
   ]
  },
  {
   "cell_type": "code",
   "execution_count": null,
   "metadata": {
    "colab": {},
    "colab_type": "code",
    "id": "QDMVI9Ihjzi6"
   },
   "outputs": [],
   "source": [
    "# The dots (...) represent as many colons as needed to produce a complete indexing tuple.\n",
    "# For example, if x is an array with 5 axes, then\n",
    "\n",
    "#     x[1,2,...] is equivalent to x[1,2,:,:,:],\n",
    "#     x[...,3] to x[:,:,:,:,3] \n",
    "#     x[4,...,5,:] to x[4,:,:,5,:].\n",
    "c = np.array( [[ [ 0,  1,  2],               # a 3D array (two stacked 2D arrays)\n",
    "                 [ 10, 12, 13]],\n",
    "                 [[100,101,102],\n",
    "                 [110,112,113]]])\n",
    "c[1,...]                                   # same as c[1,:,:] or c[1]\n"
   ]
  },
  {
   "cell_type": "markdown",
   "metadata": {
    "colab_type": "text",
    "id": "6U0qr40yjzi4"
   },
   "source": [
    "## Shape Manipulation"
   ]
  },
  {
   "cell_type": "code",
   "execution_count": null,
   "metadata": {
    "colab": {},
    "colab_type": "code",
    "id": "pZs0zBmZjziy"
   },
   "outputs": [],
   "source": [
    "a=np.array([[ 2.,  8.,  0.,  6.],\n",
    "            [ 4.,  5.,  1.,  1.],\n",
    "            [ 8.,  9.,  3.,  6.]])\n",
    "# The shape of an array can be changed with various commands. \n",
    "# Note that the following three commands all return a modified array, but do not change the original array:\n",
    "a.shape\n"
   ]
  },
  {
   "cell_type": "code",
   "execution_count": null,
   "metadata": {
    "colab": {
     "base_uri": "https://localhost:8080/",
     "height": 35
    },
    "colab_type": "code",
    "id": "SV2M1vLljziq",
    "outputId": "380ca8e4-b1a4-4d70-d578-9916fd35fc84"
   },
   "outputs": [],
   "source": [
    "a.ravel()  # returns the array, flattened\n",
    "print(a)"
   ]
  },
  {
   "cell_type": "code",
   "execution_count": null,
   "metadata": {
    "colab": {},
    "colab_type": "code",
    "id": "OE4Enx1ujzij"
   },
   "outputs": [],
   "source": [
    "a.reshape(6,2)  # returns the array with a modified shape"
   ]
  },
  {
   "cell_type": "code",
   "execution_count": null,
   "metadata": {
    "colab": {
     "base_uri": "https://localhost:8080/",
     "height": 72
    },
    "colab_type": "code",
    "id": "q3PI1kCqjzia",
    "outputId": "e843d8bf-141f-4b73-edcd-c51a37695977"
   },
   "outputs": [],
   "source": [
    "# If a dimension is given as -1 in a reshaping operation, the other dimensions are automatically calculated:\n",
    "a.reshape(2,-1)\n",
    "print(a)\n",
    "a=a.reshape(2,-1)\n",
    "print(a)"
   ]
  },
  {
   "cell_type": "code",
   "execution_count": null,
   "metadata": {
    "colab": {},
    "colab_type": "code",
    "id": "tUuQz2POjziT"
   },
   "outputs": [],
   "source": [
    "#The reshape function returns its argument with a modified shape, whereas the ndarray.resize method modifies the array itself:\n",
    "print(a)\n",
    "a.resize((2,6))                   #equivalent to a=a.reshape((2,6))\n",
    "print(a)"
   ]
  },
  {
   "cell_type": "code",
   "execution_count": null,
   "metadata": {
    "colab": {},
    "colab_type": "code",
    "id": "rQr4NFJTjziK"
   },
   "outputs": [],
   "source": [
    "a.T  # returns the array, transposed"
   ]
  },
  {
   "cell_type": "markdown",
   "metadata": {},
   "source": [
    "# -------------------------------------------Matplotlib-------------------------------------------------"
   ]
  },
  {
   "cell_type": "markdown",
   "metadata": {},
   "source": [
    "Matplotlib is a plotting library. (used to plot graphs, display images,...etc)"
   ]
  },
  {
   "cell_type": "markdown",
   "metadata": {},
   "source": [
    "## pyplot"
   ]
  },
  {
   "cell_type": "markdown",
   "metadata": {},
   "source": [
    "In this section we will give a brief introduction to the matplotlib.pyplot module, which provides a plotting system similar to that of MATLAB."
   ]
  },
  {
   "cell_type": "code",
   "execution_count": null,
   "metadata": {},
   "outputs": [],
   "source": [
    "import matplotlib.pyplot as plt"
   ]
  },
  {
   "cell_type": "markdown",
   "metadata": {},
   "source": [
    "The following command performs the necessary behind-the-scenes setup for IPython to work correctly hand in hand with matplotlib.\n",
    "After executing it we will be displaying plots inline:"
   ]
  },
  {
   "cell_type": "code",
   "execution_count": null,
   "metadata": {},
   "outputs": [],
   "source": [
    "%matplotlib inline"
   ]
  },
  {
   "cell_type": "markdown",
   "metadata": {},
   "source": [
    "### Plotting"
   ]
  },
  {
   "cell_type": "markdown",
   "metadata": {},
   "source": [
    "The most important function in matplotlib is plot, which allows you to plot 2D data. Here is a simple example:"
   ]
  },
  {
   "cell_type": "code",
   "execution_count": null,
   "metadata": {},
   "outputs": [],
   "source": [
    "# plotting  y = sin(x) \n",
    "import numpy as np #needed for sin function\n",
    "x = np.arange(0,3*np.pi,0.1)\n",
    "y_sin = np.sin(x)\n",
    "plt.plot(x,y_sin)"
   ]
  },
  {
   "cell_type": "markdown",
   "metadata": {},
   "source": [
    "With just a little bit of extra work we can easily plot multiple lines at once,modify their colors and add a title, legend, and axis labels:"
   ]
  },
  {
   "cell_type": "code",
   "execution_count": null,
   "metadata": {},
   "outputs": [],
   "source": [
    "y_cos = np.cos(x)\n",
    "\n",
    "plt.plot(x,y_sin,'g') # g for green \n",
    "plt.plot(x,y_cos,'b') # b for blue\n",
    "plt.xlabel('x axis label')\n",
    "plt.ylabel('y axis label')\n",
    "plt.title('Sine and Cosine')\n",
    "plt.legend(['Sine', 'Cosine'])"
   ]
  },
  {
   "cell_type": "markdown",
   "metadata": {},
   "source": [
    "### Subplots"
   ]
  },
  {
   "cell_type": "markdown",
   "metadata": {},
   "source": [
    "You can plot different things in the same figure using the subplot function. Here is an example:"
   ]
  },
  {
   "cell_type": "code",
   "execution_count": null,
   "metadata": {},
   "outputs": [],
   "source": [
    "# Compute the x and y coordinates for points on sine and cosine curves\n",
    "x = np.arange(0, 3 * np.pi, 0.1)\n",
    "y_sin = np.sin(x)\n",
    "y_cos = np.cos(x)\n",
    "\n",
    "# 3 parameters are passed to subplot function, height,width and which subplot you want to activate\n",
    "# as an example if you want 2 horizontal grids to plot,then height = 1 , width = 2\n",
    "plt.subplot(1,2,1) # height = 1,width = 2, activate subplot number 1\n",
    "plt.plot(x,y_sin)\n",
    "plt.title('Sine')\n",
    "\n",
    "plt.subplot(1,2,2) # height = 1,width = 2, activate subplot number 2\n",
    "plt.plot(x,y_cos)\n",
    "plt.title('Cosine')\n",
    "\n",
    "plt.show()"
   ]
  },
  {
   "cell_type": "markdown",
   "metadata": {},
   "source": [
    "## Display an image"
   ]
  },
  {
   "cell_type": "code",
   "execution_count": null,
   "metadata": {},
   "outputs": [],
   "source": [
    "import matplotlib.image as mpimg\n",
    "path_to_image = r'your_image_path.jpg'\n",
    "\n",
    "# this 'r' at the beginning of the path is to tell python that this string is a path.\n",
    "# because it may get confused by the '\\' in the path. windows uses '\\' for path instead of '/'\n",
    "# for example 'C:\\\\Users\\userName'\n",
    "\n",
    "try:\n",
    "    img=mpimg.imread(path_to_image)\n",
    "    imgplot = plt.imshow(img)\n",
    "    plt.show()\n",
    "except:\n",
    "    print(\"Image not found!!! please check the path of the image\")"
   ]
  },
  {
   "cell_type": "markdown",
   "metadata": {},
   "source": [
    "You can learn more about matplotlib in the documentation, check :\n",
    "https://matplotlib.org/"
   ]
  }
 ],
 "metadata": {
  "colab": {
   "collapsed_sections": [],
   "name": "Copy of Numpy Tut.ipynb",
   "provenance": []
  },
  "kernelspec": {
   "display_name": "Python 3",
   "language": "python",
   "name": "python3"
  },
  "language_info": {
   "codemirror_mode": {
    "name": "ipython",
    "version": 3
   },
   "file_extension": ".py",
   "mimetype": "text/x-python",
   "name": "python",
   "nbconvert_exporter": "python",
   "pygments_lexer": "ipython3",
   "version": "3.8.8"
  }
 },
 "nbformat": 4,
 "nbformat_minor": 1
}
